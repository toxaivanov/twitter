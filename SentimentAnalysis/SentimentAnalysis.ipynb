{
 "cells": [
  {
   "cell_type": "code",
   "execution_count": 1,
   "metadata": {},
   "outputs": [],
   "source": [
    "#загрузка библиотек \n",
    "import pandas as pd\n",
    "import numpy as np\n",
    "import warnings\n",
    "warnings.filterwarnings(\"ignore\")\n",
    "\n",
    "# библиотека для отрисовки метрик классификации\n",
    "from yellowbrick.classifier import ROCAUC"
   ]
  },
  {
   "cell_type": "markdown",
   "metadata": {},
   "source": [
    "## Загрузка и подготовка данных"
   ]
  },
  {
   "cell_type": "code",
   "execution_count": 2,
   "metadata": {},
   "outputs": [],
   "source": [
    "# загружаем датасет\n",
    "df = pd.read_csv(\"input.csv\", sep=';')[['what_emotion_does_the_author_express_specifically_about_the_weather', 'tweet_text']]\n",
    "# переименовываем столбец\n",
    "df = df.rename(index=str, columns={'what_emotion_does_the_author_express_specifically_about_the_weather': 'class'})\n",
    "# выкидываем строки с пропусками\n",
    "df = df.dropna()"
   ]
  },
  {
   "cell_type": "code",
   "execution_count": 3,
   "metadata": {},
   "outputs": [
    {
     "data": {
      "text/html": [
       "<div>\n",
       "<style scoped>\n",
       "    .dataframe tbody tr th:only-of-type {\n",
       "        vertical-align: middle;\n",
       "    }\n",
       "\n",
       "    .dataframe tbody tr th {\n",
       "        vertical-align: top;\n",
       "    }\n",
       "\n",
       "    .dataframe thead th {\n",
       "        text-align: right;\n",
       "    }\n",
       "</style>\n",
       "<table border=\"1\" class=\"dataframe\">\n",
       "  <thead>\n",
       "    <tr style=\"text-align: right;\">\n",
       "      <th></th>\n",
       "      <th>class</th>\n",
       "      <th>tweet_text</th>\n",
       "    </tr>\n",
       "  </thead>\n",
       "  <tbody>\n",
       "    <tr>\n",
       "      <th>0</th>\n",
       "      <td>1</td>\n",
       "      <td>Grilling kabobs on the grill last night was am...</td>\n",
       "    </tr>\n",
       "    <tr>\n",
       "      <th>1</th>\n",
       "      <td>-1</td>\n",
       "      <td>The slowest day ever !! And the weather makes ...</td>\n",
       "    </tr>\n",
       "    <tr>\n",
       "      <th>2</th>\n",
       "      <td>0</td>\n",
       "      <td>Fire Weather Watch issued May 17 at 4:21PM CDT...</td>\n",
       "    </tr>\n",
       "    <tr>\n",
       "      <th>3</th>\n",
       "      <td>1</td>\n",
       "      <td>Im going to lunch early today.   The weather i...</td>\n",
       "    </tr>\n",
       "    <tr>\n",
       "      <th>4</th>\n",
       "      <td>0</td>\n",
       "      <td>Weekend Weather Causes Delays In I-270 Bridge ...</td>\n",
       "    </tr>\n",
       "  </tbody>\n",
       "</table>\n",
       "</div>"
      ],
      "text/plain": [
       "  class                                         tweet_text\n",
       "0     1  Grilling kabobs on the grill last night was am...\n",
       "1    -1  The slowest day ever !! And the weather makes ...\n",
       "2     0  Fire Weather Watch issued May 17 at 4:21PM CDT...\n",
       "3     1  Im going to lunch early today.   The weather i...\n",
       "4     0  Weekend Weather Causes Delays In I-270 Bridge ..."
      ]
     },
     "execution_count": 3,
     "metadata": {},
     "output_type": "execute_result"
    }
   ],
   "source": [
    "# переименовываем метки классов с помощью словаря\n",
    "classes_dict = {\n",
    "                  'Positive' : 1,\n",
    "                  'Neutral / author is just sharing information' : 0,\n",
    "                  'Negative' : -1\n",
    "               }\n",
    "\n",
    "df['class'] = df['class'].apply(lambda x: classes_dict[x] if x in classes_dict.keys() else 'garbage')\n",
    "# выкидываем все, что не попало в эти три класса\n",
    "df = df[df['class'] != 'garbage']\n",
    "df.head()"
   ]
  },
  {
   "cell_type": "code",
   "execution_count": 4,
   "metadata": {},
   "outputs": [],
   "source": [
    "from sklearn.model_selection import train_test_split\n",
    "\n",
    "# создаем лист текстов\n",
    "texts = df['tweet_text'].values\n",
    "# классы (в том же порядке для текстов)\n",
    "target = df['class'].values.astype('int32') \n",
    "# разбивка \n",
    "texts_train, texts_test, y_train, y_test = train_test_split(texts, target, test_size=0.1)"
   ]
  },
  {
   "cell_type": "markdown",
   "metadata": {},
   "source": [
    "## Baseline: TF-IDF и RidgeClassifier без пунктуации."
   ]
  },
  {
   "cell_type": "code",
   "execution_count": 5,
   "metadata": {},
   "outputs": [
    {
     "name": "stdout",
     "output_type": "stream",
     "text": [
      "f1_score: 0.7402597402597403\n"
     ]
    }
   ],
   "source": [
    "from sklearn.feature_extraction.text import TfidfVectorizer\n",
    "from sklearn.linear_model import RidgeClassifier\n",
    "from sklearn.metrics import f1_score\n",
    "\n",
    "# преобразуем документы в вектора с помощью TfidfVectorizer\n",
    "def tf_idf_vectorize_train_test(X_train, X_test):\n",
    "    vectorizer = TfidfVectorizer()\n",
    "#   создаем словарь слов texts_train\n",
    "    vectorizer.fit(X_train)\n",
    "    return vectorizer.transform(X_train), vectorizer.transform(X_test)\n",
    "\n",
    "X_train, X_test = tf_idf_vectorize_train_test(texts_train, texts_test)\n",
    "\n",
    "# создаем классификатор и обучаем\n",
    "model = RidgeClassifier()\n",
    "model.fit(X_train, y_train)\n",
    "# f1 устойчива к мощностям классов\n",
    "print('f1_score: {}'.format(f1_score(y_test, model.predict(X_test), average='micro')))"
   ]
  },
  {
   "cell_type": "code",
   "execution_count": 6,
   "metadata": {},
   "outputs": [
    {
     "data": {
      "image/png": "[encoded data removed]",
      "text/plain": [
       "<Figure size 432x288 with 1 Axes>"
      ]
     },
     "metadata": {
      "needs_background": "light"
     },
     "output_type": "display_data"
    }
   ],
   "source": [
    "# строим ROC-кривые и считаем AUC\n",
    "visualizer = ROCAUC(RidgeClassifier(), classes=[-1, 0, 1])\n",
    "\n",
    "visualizer.fit(X_train, y_train)\n",
    "visualizer.score(X_test, y_test)\n",
    "g = visualizer.poof()"
   ]
  },
  {
   "cell_type": "markdown",
   "metadata": {},
   "source": [
    "## TF-IDF и RidgeClassifier без пунктуации и со стеммингом."
   ]
  },
  {
   "cell_type": "code",
   "execution_count": 7,
   "metadata": {},
   "outputs": [],
   "source": [
    "from nltk.stem import SnowballStemmer\n",
    "from nltk.tokenize import RegexpTokenizer\n",
    "\n",
    "# заменяем слова на основу слова\n",
    "def preprocessor(twit):\n",
    "    stemmer = SnowballStemmer('english')\n",
    "    tokenizer=RegexpTokenizer(r'[a-zA-Z]+\\-?[a-zA-Z]+')  \n",
    "    return ' '.join([stemmer.stem(word) for word in tokenizer.tokenize(twit)])"
   ]
  },
  {
   "cell_type": "code",
   "execution_count": 8,
   "metadata": {},
   "outputs": [
    {
     "name": "stdout",
     "output_type": "stream",
     "text": [
      "f1_score: 0.7272727272727273\n"
     ]
    }
   ],
   "source": [
    "# используем TfidfVectorizer с препроцессором\n",
    "def tf_idf_vectorize_train_test(X_train, X_test, max_features=None):\n",
    "    vectorizer = TfidfVectorizer(token_pattern=r'[a-zA-Z]+\\-?[a-zA-Z]+', preprocessor=preprocessor)\n",
    "    vectorizer.fit(X_train)\n",
    "    return vectorizer.transform(X_train), vectorizer.transform(X_test)\n",
    "\n",
    "X_train, X_test = tf_idf_vectorize_train_test(texts_train, texts_test)\n",
    "\n",
    "model = RidgeClassifier()\n",
    "model.fit(X_train, y_train)\n",
    "print('f1_score: {}'.format(f1_score(y_test, model.predict(X_test), average='micro')))"
   ]
  },
  {
   "cell_type": "code",
   "execution_count": 9,
   "metadata": {},
   "outputs": [
    {
     "data": {
      "image/png": "[encoded data removed]",
      "text/plain": [
       "<Figure size 432x288 with 1 Axes>"
      ]
     },
     "metadata": {
      "needs_background": "light"
     },
     "output_type": "display_data"
    }
   ],
   "source": [
    "visualizer = ROCAUC(RidgeClassifier(), classes=[-1, 0, 1])\n",
    "\n",
    "visualizer.fit(X_train, y_train)\n",
    "visualizer.score(X_test, y_test)\n",
    "g = visualizer.poof()"
   ]
  },
  {
   "cell_type": "markdown",
   "metadata": {},
   "source": [
    "### Видим, что результат по метрике f1-score ухудшился. ROC-AUC значительно не улучшился. Видимо, стемминг, в данном случае, делать не нужно."
   ]
  },
  {
   "cell_type": "markdown",
   "metadata": {},
   "source": [
    "## Загружаем предобученный word2vec."
   ]
  },
  {
   "cell_type": "code",
   "execution_count": 10,
   "metadata": {},
   "outputs": [],
   "source": [
    "import gensim.downloader as api\n",
    "\n",
    "word2vec_model = api.load(\"glove-wiki-gigaword-100\")"
   ]
  },
  {
   "cell_type": "markdown",
   "metadata": {},
   "source": [
    "### Модель загружена. Посмотрим на векторное представление слова \"погода\"."
   ]
  },
  {
   "cell_type": "code",
   "execution_count": 11,
   "metadata": {},
   "outputs": [
    {
     "data": {
      "text/plain": [
       "array([-1.0770e+00, -4.2305e-01,  7.2816e-01,  3.1298e-02, -8.5608e-01,\n",
       "       -1.0674e+00,  3.0636e-01,  2.9915e-01, -1.1422e+00, -2.4928e-01,\n",
       "        8.9267e-02, -7.3746e-01,  9.4393e-01, -7.7069e-01,  8.1351e-01,\n",
       "       -4.3571e-01,  8.6461e-04, -7.8748e-01,  2.3369e-01,  2.6158e-01,\n",
       "       -5.2750e-01,  3.8901e-01,  9.5790e-01,  1.7041e-01, -4.2107e-01,\n",
       "        2.6841e-01, -5.9422e-01, -2.7610e-02, -4.3908e-01, -6.1150e-02,\n",
       "       -5.0471e-01, -1.2419e-01, -4.6748e-01,  3.6254e-01, -4.4388e-01,\n",
       "        6.0595e-01, -1.8125e-01, -4.0161e-01,  5.4966e-01, -7.3956e-02,\n",
       "       -1.0279e+00, -9.9115e-02, -6.5336e-01,  1.9828e-04,  4.5476e-01,\n",
       "       -2.1899e-01,  2.0762e-01, -3.1110e-01,  5.7836e-01, -1.1213e+00,\n",
       "        6.1019e-01,  8.4058e-02,  1.6671e-01,  6.4629e-01,  9.2916e-01,\n",
       "       -2.1362e+00,  7.8269e-01,  9.0944e-01,  1.7399e+00,  6.6094e-01,\n",
       "       -4.6687e-01,  9.6174e-01, -6.9801e-01, -3.3346e-01,  3.0522e-01,\n",
       "        1.0064e-01, -6.2036e-01, -1.1825e+00,  5.1180e-01, -4.1728e-01,\n",
       "       -6.4461e-01, -5.1756e-01,  4.7239e-01,  2.9612e-01,  9.2402e-01,\n",
       "       -3.6908e-02,  1.0715e+00,  1.7287e-01,  7.1437e-02,  8.8972e-01,\n",
       "        6.2335e-01, -3.3716e-01, -1.1175e+00,  4.6143e-01, -8.4896e-01,\n",
       "       -4.7477e-01, -7.6529e-02,  2.3615e-01,  4.6773e-02,  3.7006e-02,\n",
       "        7.1683e-01,  2.8154e-01,  2.1598e-01, -2.3751e-01, -4.7275e-01,\n",
       "        7.8947e-01, -2.7543e-01,  2.5724e-01, -2.5671e-02,  5.2600e-02],\n",
       "      dtype=float32)"
      ]
     },
     "execution_count": 11,
     "metadata": {},
     "output_type": "execute_result"
    }
   ],
   "source": [
    "word2vec_model.wv['weather']"
   ]
  },
  {
   "cell_type": "markdown",
   "metadata": {},
   "source": [
    "## Или обучаем word2vec на нашем датасете. \n",
    "### Из-за небольшого размера датасета результат получился неудовлетворительным: около 45%."
   ]
  },
  {
   "cell_type": "code",
   "execution_count": null,
   "metadata": {},
   "outputs": [],
   "source": [
    "# from nltk.stem import SnowballStemmer\n",
    "# from nltk.tokenize import RegexpTokenizer\n",
    "\n",
    "# def preprocessor(twit):\n",
    "#     stemmer = SnowballStemmer('english')\n",
    "#     tokenizer=RegexpTokenizer(r'[a-zA-Z]+\\-?[a-zA-Z]+')  \n",
    "#     return [stemmer.stem(word) for word in tokenizer.tokenize(twit)]"
   ]
  },
  {
   "cell_type": "code",
   "execution_count": null,
   "metadata": {},
   "outputs": [],
   "source": [
    "# from gensim.test.utils import common_texts, get_tmpfile\n",
    "# from gensim.models import Word2Vec\n",
    "\n",
    "# path = get_tmpfile(\"word2vec.model\")\n",
    "\n",
    "# preprocessed_texts = [preprocessor(text) for text in texts]\n",
    "# word2vec_model = Word2Vec(preprocessed_texts, size=100, window=5, min_count=1, workers=4)\n",
    "# word2vec_model.save(\"word2vec.model\")"
   ]
  },
  {
   "cell_type": "code",
   "execution_count": null,
   "metadata": {},
   "outputs": [],
   "source": [
    "# word2vec_model = Word2Vec.load(\"word2vec.model\")\n",
    "# word2vec_model.train(preprocessed_texts, total_examples=1, epochs=1)"
   ]
  },
  {
   "cell_type": "code",
   "execution_count": null,
   "metadata": {},
   "outputs": [],
   "source": [
    "# word2vec_model.wv['weather']"
   ]
  },
  {
   "cell_type": "markdown",
   "metadata": {},
   "source": [
    "### Создаем список всех слов встречающихся в texts_train."
   ]
  },
  {
   "cell_type": "code",
   "execution_count": 20,
   "metadata": {},
   "outputs": [],
   "source": [
    "from sklearn.feature_extraction.text import CountVectorizer\n",
    "\n",
    "vectorizer = CountVectorizer(token_pattern=r'[a-zA-Z]+\\-?[a-zA-Z]+')\n",
    "X_train = vectorizer.fit(texts)\n",
    "vocab = vectorizer.vocabulary_.keys()"
   ]
  },
  {
   "cell_type": "markdown",
   "metadata": {},
   "source": [
    "### Создаем словарь слова-векторные_представления."
   ]
  },
  {
   "cell_type": "code",
   "execution_count": 23,
   "metadata": {},
   "outputs": [],
   "source": [
    "from nltk.stem import WordNetLemmatizer \n",
    "  \n",
    "lemmatizer = WordNetLemmatizer()\n",
    "\n",
    "vocab = [lemmatizer.lemmatize(word) for word in vocab]\n",
    "dict_words_vecs = {word : word2vec_model[word] for word in vocab if word in word2vec_model.wv.vocab.keys() }"
   ]
  },
  {
   "cell_type": "code",
   "execution_count": 24,
   "metadata": {},
   "outputs": [
    {
     "data": {
      "text/plain": [
       "2095"
      ]
     },
     "execution_count": 24,
     "metadata": {},
     "output_type": "execute_result"
    }
   ],
   "source": [
    "len(dict_words_vecs.keys())"
   ]
  },
  {
   "cell_type": "markdown",
   "metadata": {},
   "source": [
    "## Кластеризуем векторные представления."
   ]
  },
  {
   "cell_type": "code",
   "execution_count": 25,
   "metadata": {},
   "outputs": [
    {
     "name": "stdout",
     "output_type": "stream",
     "text": [
      "Проведено разбинение на 100 кластеров\n"
     ]
    }
   ],
   "source": [
    "from nltk.cluster import KMeansClusterer\n",
    "import nltk\n",
    "\n",
    "X = np.array(list(dict_words_vecs.values()))\n",
    "# n_clasters = round(len(X) / 20)\n",
    "n_clasters = 100\n",
    "kclusterer = KMeansClusterer(n_clasters, distance=nltk.cluster.util.cosine_distance, repeats=25)\n",
    "assigned_clusters = kclusterer.cluster(X, assign_clusters=True)\n",
    "print('Проведено разбинение на {} кластеров'.format(n_clasters))"
   ]
  },
  {
   "cell_type": "markdown",
   "metadata": {},
   "source": [
    "### Создаем словарь слова-номера_кластеров."
   ]
  },
  {
   "cell_type": "code",
   "execution_count": 26,
   "metadata": {},
   "outputs": [],
   "source": [
    "dict_words_clasters = {list(dict_words_vecs.keys())[i] : assigned_clusters[i] for i in range(len(dict_words_vecs.keys()))}"
   ]
  },
  {
   "cell_type": "code",
   "execution_count": 27,
   "metadata": {},
   "outputs": [
    {
     "data": {
      "text/plain": [
       "2095"
      ]
     },
     "execution_count": 27,
     "metadata": {},
     "output_type": "execute_result"
    }
   ],
   "source": [
    "len(dict_words_clasters.keys())"
   ]
  },
  {
   "cell_type": "markdown",
   "metadata": {},
   "source": [
    "### Формируем векторные представления твитов на основе кластеризации и обучаем на них модель.\n",
    "### Ищем лучшие значения гиперпараметров для модели RandomForest с помощью перебора по сетке.\n",
    "### Слова, для которых не оказалось предобученных векторов, а значит, и кластеров, используем сами по себе. В том числе используем символы \")\" и \"(\", которые, предположительно, имеют большое значение при анализе тональности."
   ]
  },
  {
   "cell_type": "code",
   "execution_count": 28,
   "metadata": {},
   "outputs": [
    {
     "data": {
      "text/plain": [
       "GridSearchCV(cv=5, error_score='raise-deprecating',\n",
       "       estimator=RandomForestClassifier(bootstrap=True, class_weight=None, criterion='gini',\n",
       "            max_depth=None, max_features='auto', max_leaf_nodes=None,\n",
       "            min_impurity_decrease=0.0, min_impurity_split=None,\n",
       "            min_samples_leaf=1, min_samples_split=2,\n",
       "            min_weight_fraction_leaf=0.0, n_estimators='warn', n_jobs=-1,\n",
       "            oob_score=True, random_state=None, verbose=0, warm_start=False),\n",
       "       fit_params=None, iid='warn', n_jobs=None,\n",
       "       param_grid={'n_estimators': [50, 60, 70, 80, 90, 100, 110, 120, 130, 140, 150, 160, 170, 180, 190, 200, 210, 220, 230, 240, 250, 260, 270, 280, 290, 300, 310, 320, 330, 340, 350, 360, 370, 380, 390, 400, 410, 420, 430, 440, 450, 460, 470, 480, 490], 'max_features': ['auto', 'sqrt', 'log2']},\n",
       "       pre_dispatch='2*n_jobs', refit=True, return_train_score='warn',\n",
       "       scoring=None, verbose=0)"
      ]
     },
     "execution_count": 28,
     "metadata": {},
     "output_type": "execute_result"
    }
   ],
   "source": [
    "from sklearn.feature_extraction.text import CountVectorizer\n",
    "from nltk.tokenize import RegexpTokenizer\n",
    "from nltk.stem import SnowballStemmer\n",
    "from sklearn.ensemble import RandomForestClassifier\n",
    "from sklearn.model_selection import GridSearchCV\n",
    "\n",
    "# в функции препроцессор заменяем те слова, которые были в предобученной модули word2vec на номера их кластеров,\n",
    "# остальные - на основу слова\n",
    "def preprocessor(twit):\n",
    "    stemmer = SnowballStemmer('english')\n",
    "    tokenizer=RegexpTokenizer(r'[a-zA-Z]+\\-?[a-zA-Z]+|[\\(\\)]+')\n",
    "    return ' '.join([str(dict_words_clasters[word]) if word in dict_words_clasters.keys() else stemmer.stem(word) \n",
    "                     for word in tokenizer.tokenize(twit)])\n",
    "\n",
    "def vectorize_train_test(X_train, X_test, max_features=None):\n",
    "    vectorizer = CountVectorizer(token_pattern=r'[a-zA-Z]+\\-?[a-zA-Z]+|\\d+|[\\(\\)]+', preprocessor=preprocessor)\n",
    "    vectorizer.fit(X_test)\n",
    "    return vectorizer.transform(X_train), vectorizer.transform(X_test)\n",
    "\n",
    "X_train, X_test = vectorize_train_test(texts_train, texts_test)\n",
    "\n",
    "# перебираем гиперпараметры по сетке для нахождения лучших значений\n",
    "rfc = RandomForestClassifier(n_jobs=-1, oob_score = True) \n",
    "\n",
    "param_grid = { \n",
    "                'n_estimators': [n*10 for n in range(5,50)],\n",
    "                'max_features': ['auto', 'sqrt', 'log2']\n",
    "             }\n",
    "CV_rfc = GridSearchCV(estimator=rfc, param_grid=param_grid, cv=5)\n",
    "CV_rfc.fit(X_train, y_train)"
   ]
  },
  {
   "cell_type": "code",
   "execution_count": 41,
   "metadata": {},
   "outputs": [
    {
     "data": {
      "text/plain": [
       "{'max_features': 'log2', 'n_estimators': 400}"
      ]
     },
     "execution_count": 41,
     "metadata": {},
     "output_type": "execute_result"
    }
   ],
   "source": [
    "CV_rfc.best_params_"
   ]
  },
  {
   "cell_type": "code",
   "execution_count": 40,
   "metadata": {
    "scrolled": true
   },
   "outputs": [
    {
     "name": "stdout",
     "output_type": "stream",
     "text": [
      "f1_score: 0.6753246753246753\n"
     ]
    }
   ],
   "source": [
    "# обучаем модель с лучшими гиперпараметрами\n",
    "model = RandomForestClassifier(\n",
    "                                   n_estimators = CV_rfc.best_params_['n_estimators'], \n",
    "                                   max_features = CV_rfc.best_params_['max_features'],\n",
    "                                   random_state=2\n",
    "                              )\n",
    "model.fit(X_train, y_train)\n",
    "print('f1_score: {}'.format(f1_score(y_test, model.predict(X_test), average='micro')))"
   ]
  },
  {
   "cell_type": "markdown",
   "metadata": {},
   "source": [
    "## Строим ROC-кривые."
   ]
  },
  {
   "cell_type": "code",
   "execution_count": 31,
   "metadata": {},
   "outputs": [
    {
     "data": {
      "image/png": "[encoded data removed]",
      "text/plain": [
       "<Figure size 432x288 with 1 Axes>"
      ]
     },
     "metadata": {
      "needs_background": "light"
     },
     "output_type": "display_data"
    }
   ],
   "source": [
    "visualizer = ROCAUC(RandomForestClassifier(n_estimators = CV_rfc.best_params_['n_estimators'], \n",
    "                                           max_features = CV_rfc.best_params_['max_features'],\n",
    "                                           random_state = 2), \n",
    "                    classes=[-1, 0, 1])\n",
    "\n",
    "visualizer.fit(X_train, y_train)\n",
    "visualizer.score(X_test, y_test)\n",
    "g = visualizer.poof()"
   ]
  },
  {
   "cell_type": "code",
   "execution_count": null,
   "metadata": {},
   "outputs": [],
   "source": []
  }
 ],
 "metadata": {
  "kernelspec": {
   "display_name": "Python 3",
   "language": "python",
   "name": "python3"
  },
  "language_info": {
   "codemirror_mode": {
    "name": "ipython",
    "version": 3
   },
   "file_extension": ".py",
   "mimetype": "text/x-python",
   "name": "python",
   "nbconvert_exporter": "python",
   "pygments_lexer": "ipython3",
   "version": "3.7.1"
  }
 },
 "nbformat": 4,
 "nbformat_minor": 2
}
